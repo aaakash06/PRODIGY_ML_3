{
  "nbformat": 4,
  "nbformat_minor": 0,
  "metadata": {
    "colab": {
      "provenance": [],
      "gpuType": "T4",
      "authorship_tag": "ABX9TyNVv60h9w/WytQ9KythADWf",
      "include_colab_link": true
    },
    "kernelspec": {
      "name": "python3",
      "display_name": "Python 3"
    },
    "language_info": {
      "name": "python"
    },
    "accelerator": "GPU"
  },
  "cells": [
    {
      "cell_type": "markdown",
      "metadata": {
        "id": "view-in-github",
        "colab_type": "text"
      },
      "source": [
        "<a href=\"https://colab.research.google.com/github/aaakash06/PRODIGY_ML_3/blob/main/svm_image_classifier.ipynb\" target=\"_parent\"><img src=\"https://colab.research.google.com/assets/colab-badge.svg\" alt=\"Open In Colab\"/></a>"
      ]
    },
    {
      "cell_type": "code",
      "execution_count": 1,
      "metadata": {
        "id": "kuDVpzE568Ha"
      },
      "outputs": [],
      "source": [
        "import cv2\n",
        "import numpy as np\n",
        "import os\n",
        "import matplotlib.pyplot as plt"
      ]
    },
    {
      "cell_type": "code",
      "source": [
        "import zipfile\n",
        "import os\n",
        "\n",
        "def unzip_folder(zip_file_path, extract_to_path):\n",
        "    with zipfile.ZipFile(zip_file_path, 'r') as zip_ref:\n",
        "        zip_ref.extractall(extract_to_path)\n",
        "        zip_ref.close()\n",
        "\n",
        "# Example usage\n",
        "zip_file_path = '/content/Dhwaj-Sharma PRODIGY_ML_03 main Dataset.zip'\n",
        "extract_to_path = '/content/dataset'\n",
        "\n",
        "# Ensure the extraction path exists\n",
        "os.makedirs(extract_to_path, exist_ok=True)\n",
        "\n",
        "unzip_folder(zip_file_path, extract_to_path)"
      ],
      "metadata": {
        "id": "0MNk9ROP5TTz"
      },
      "execution_count": 2,
      "outputs": []
    },
    {
      "cell_type": "code",
      "source": [
        "def walk_through_dir(dir_path):\n",
        "  for dirpath, dirnames, filenames in os.walk(dir_path):\n",
        "    print(f\"There are {len(dirnames)} directories and {len(filenames)} images in '{dirpath}'.\")\n",
        "\n",
        "walk_through_dir('/content/dataset')"
      ],
      "metadata": {
        "colab": {
          "base_uri": "https://localhost:8080/"
        },
        "id": "sAoJvQoA5a8C",
        "outputId": "f8df447d-1dae-4cae-a05b-716128c2e6ca"
      },
      "execution_count": 3,
      "outputs": [
        {
          "output_type": "stream",
          "name": "stdout",
          "text": [
            "There are 2 directories and 0 images in '/content/dataset'.\n",
            "There are 0 directories and 4001 images in '/content/dataset/Cat'.\n",
            "There are 0 directories and 4006 images in '/content/dataset/Dog'.\n"
          ]
        }
      ]
    },
    {
      "cell_type": "code",
      "source": [
        "def not_image(dir_path):\n",
        "  for filename in os.listdir(dir_path):\n",
        "    if \"jpg\" not in filename:\n",
        "        print(f\"The file that is not image is {filename}\")\n",
        "\n",
        "not_image('/content/dataset/Cat')\n",
        "not_image('/content/dataset/Dog')"
      ],
      "metadata": {
        "colab": {
          "base_uri": "https://localhost:8080/"
        },
        "id": "2nLXV4LW6pB3",
        "outputId": "3384b37d-1b60-44e1-8171-ae6ba2408530"
      },
      "execution_count": 5,
      "outputs": [
        {
          "output_type": "stream",
          "name": "stdout",
          "text": [
            "The file that is not image is _DS_Store\n",
            "The file that is not image is _DS_Store\n"
          ]
        }
      ]
    },
    {
      "cell_type": "code",
      "source": [
        "os.remove(\"/content/dataset/Cat/_DS_Store\")\n",
        "os.remove(\"/content/dataset/Dog/_DS_Store\")"
      ],
      "metadata": {
        "id": "-gzHawlf8tYi"
      },
      "execution_count": 6,
      "outputs": []
    },
    {
      "cell_type": "code",
      "source": [
        "walk_through_dir('/content/dataset')"
      ],
      "metadata": {
        "colab": {
          "base_uri": "https://localhost:8080/"
        },
        "id": "mmrqeWvq9HG6",
        "outputId": "1a42902e-a9ee-4342-c115-41a466d17d8a"
      },
      "execution_count": 7,
      "outputs": [
        {
          "output_type": "stream",
          "name": "stdout",
          "text": [
            "There are 2 directories and 0 images in '/content/dataset'.\n",
            "There are 0 directories and 4000 images in '/content/dataset/Cat'.\n",
            "There are 0 directories and 4005 images in '/content/dataset/Dog'.\n"
          ]
        }
      ]
    },
    {
      "cell_type": "code",
      "source": [
        "import cv2\n",
        "\n",
        "data = []\n",
        "\n",
        "for filename in os.listdir('/content/dataset/Cat'):\n",
        "  img = cv2.imread(f'/content/dataset/Cat/{filename}',0)\n",
        "  try:\n",
        "    img = cv2.resize(img,(50,50))\n",
        "  except:\n",
        "    pass\n",
        "\n",
        "  img = np.array(img)\n",
        "  img = img/255\n",
        "  img = img.flatten()\n",
        "  data.append((img,0))\n",
        "\n",
        "for filename in os.listdir('/content/dataset/Dog'):\n",
        "  img = cv2.imread(f'/content/dataset/Dog/{filename}',0)\n",
        "  try:\n",
        "    img = cv2.resize(img,(50,50))\n",
        "  except:\n",
        "    pass\n",
        "  img = np.array(img)\n",
        "  img = img/255\n",
        "  img = img.flatten()\n",
        "  data.append((img,1))\n"
      ],
      "metadata": {
        "id": "9wx2EpWK9J17"
      },
      "execution_count": 19,
      "outputs": []
    },
    {
      "cell_type": "code",
      "source": [
        "import random\n",
        "random.shuffle(data)\n",
        "\n"
      ],
      "metadata": {
        "id": "aLOnY-Y3BbPs"
      },
      "execution_count": 20,
      "outputs": []
    },
    {
      "cell_type": "code",
      "source": [
        "data[5]"
      ],
      "metadata": {
        "colab": {
          "base_uri": "https://localhost:8080/"
        },
        "id": "OfFwyNMnDST5",
        "outputId": "23782ff3-01d4-48a6-a279-cb9b0a9a260a"
      },
      "execution_count": 21,
      "outputs": [
        {
          "output_type": "execute_result",
          "data": {
            "text/plain": [
              "(array([0.91764706, 0.92941176, 0.91764706, ..., 0.18431373, 0.20784314,\n",
              "        0.96862745]),\n",
              " 0)"
            ]
          },
          "metadata": {},
          "execution_count": 21
        }
      ]
    },
    {
      "cell_type": "code",
      "source": [
        "data[6]"
      ],
      "metadata": {
        "colab": {
          "base_uri": "https://localhost:8080/"
        },
        "id": "03Nvz2SoDWND",
        "outputId": "91ed33c8-4fc8-4ecf-f012-b612f127dce5"
      },
      "execution_count": 22,
      "outputs": [
        {
          "output_type": "execute_result",
          "data": {
            "text/plain": [
              "(array([0.41176471, 0.24705882, 0.32941176, ..., 0.43529412, 0.47843137,\n",
              "        0.29411765]),\n",
              " 1)"
            ]
          },
          "metadata": {},
          "execution_count": 22
        }
      ]
    },
    {
      "cell_type": "code",
      "source": [
        "data[0][0]"
      ],
      "metadata": {
        "colab": {
          "base_uri": "https://localhost:8080/"
        },
        "id": "TZdhTvixJhq9",
        "outputId": "0edec4fb-72f6-4933-b8e4-58d2bef5ef3c"
      },
      "execution_count": 23,
      "outputs": [
        {
          "output_type": "execute_result",
          "data": {
            "text/plain": [
              "array([0.4       , 0.34901961, 0.11764706, ..., 0.28627451, 0.35294118,\n",
              "       0.28235294])"
            ]
          },
          "metadata": {},
          "execution_count": 23
        }
      ]
    },
    {
      "cell_type": "code",
      "source": [
        "data[0][0].shape"
      ],
      "metadata": {
        "colab": {
          "base_uri": "https://localhost:8080/"
        },
        "id": "dj1rmhb6H-fp",
        "outputId": "3733d241-7b3b-4dba-88ee-ea2a7bf700bc"
      },
      "execution_count": 24,
      "outputs": [
        {
          "output_type": "execute_result",
          "data": {
            "text/plain": [
              "(2500,)"
            ]
          },
          "metadata": {},
          "execution_count": 24
        }
      ]
    },
    {
      "cell_type": "code",
      "source": [
        "for d in data:\n",
        "  if d[0].shape != (2500,):\n",
        "    print(d[0].shape)"
      ],
      "metadata": {
        "id": "dqe4fpKyHyxi"
      },
      "execution_count": 25,
      "outputs": []
    },
    {
      "cell_type": "code",
      "source": [
        "import pickle\n",
        "\n",
        "with open('data.pickle','wb') as f:\n",
        "  pickle.dump(data,f)"
      ],
      "metadata": {
        "id": "u_FF1uhDChla"
      },
      "execution_count": 26,
      "outputs": []
    },
    {
      "cell_type": "code",
      "source": [
        "X = []\n",
        "y = []\n",
        "\n",
        "for img,label in data:\n",
        "  X.append(img)\n",
        "  y.append(label)"
      ],
      "metadata": {
        "id": "JIFHjjoUD99i"
      },
      "execution_count": 27,
      "outputs": []
    },
    {
      "cell_type": "code",
      "source": [
        "X[:5]"
      ],
      "metadata": {
        "id": "l44zAOfzIo6w",
        "colab": {
          "base_uri": "https://localhost:8080/"
        },
        "outputId": "4f4e4cce-2515-4e40-f808-fa9af673c078"
      },
      "execution_count": 29,
      "outputs": [
        {
          "output_type": "execute_result",
          "data": {
            "text/plain": [
              "[array([0.4       , 0.34901961, 0.11764706, ..., 0.28627451, 0.35294118,\n",
              "        0.28235294]),\n",
              " array([0.34117647, 0.34117647, 0.39607843, ..., 0.63529412, 0.58823529,\n",
              "        0.72941176]),\n",
              " array([0.42745098, 0.48627451, 0.2627451 , ..., 0.45882353, 0.49411765,\n",
              "        0.43137255]),\n",
              " array([0.51764706, 0.59215686, 0.43921569, ..., 0.31372549, 0.40784314,\n",
              "        0.46666667]),\n",
              " array([0.2       , 0.20392157, 0.21568627, ..., 0.71764706, 0.69803922,\n",
              "        0.70980392])]"
            ]
          },
          "metadata": {},
          "execution_count": 29
        }
      ]
    },
    {
      "cell_type": "code",
      "source": [
        "from sklearn.model_selection import train_test_split\n",
        "X_train, X_test, y_train, y_test = train_test_split(X, y, test_size=0.2, random_state=42)"
      ],
      "metadata": {
        "id": "mNLmqjAAEIu4"
      },
      "execution_count": 30,
      "outputs": []
    },
    {
      "cell_type": "code",
      "source": [
        "print(len(X_train))\n",
        "print(len(X_test))"
      ],
      "metadata": {
        "id": "n23rNNP6EeaB",
        "colab": {
          "base_uri": "https://localhost:8080/"
        },
        "outputId": "da7777c9-d154-4816-f62d-85594cb043c4"
      },
      "execution_count": 31,
      "outputs": [
        {
          "output_type": "stream",
          "name": "stdout",
          "text": [
            "6404\n",
            "1601\n"
          ]
        }
      ]
    },
    {
      "cell_type": "code",
      "source": [
        "print(len(y_train))\n",
        "print(len(y_test))"
      ],
      "metadata": {
        "colab": {
          "base_uri": "https://localhost:8080/"
        },
        "id": "6vIeqF-YCz7q",
        "outputId": "da21aaf8-ecfd-4444-a24c-4dfb87e65d79"
      },
      "execution_count": 32,
      "outputs": [
        {
          "output_type": "stream",
          "name": "stdout",
          "text": [
            "6404\n",
            "1601\n"
          ]
        }
      ]
    },
    {
      "cell_type": "code",
      "source": [
        "from sklearn.svm import SVC\n",
        "\n",
        "model = SVC(C=1, kernel='poly', gamma=\"auto\")\n",
        "model.fit(X_train, y_train)"
      ],
      "metadata": {
        "id": "rO0yhzm_DdXY",
        "colab": {
          "base_uri": "https://localhost:8080/",
          "height": 74
        },
        "outputId": "7173ee5a-28f8-4f62-adae-9efb28eff716"
      },
      "execution_count": 33,
      "outputs": [
        {
          "output_type": "execute_result",
          "data": {
            "text/plain": [
              "SVC(C=1, gamma='auto', kernel='poly')"
            ],
            "text/html": [
              "<style>#sk-container-id-1 {color: black;background-color: white;}#sk-container-id-1 pre{padding: 0;}#sk-container-id-1 div.sk-toggleable {background-color: white;}#sk-container-id-1 label.sk-toggleable__label {cursor: pointer;display: block;width: 100%;margin-bottom: 0;padding: 0.3em;box-sizing: border-box;text-align: center;}#sk-container-id-1 label.sk-toggleable__label-arrow:before {content: \"▸\";float: left;margin-right: 0.25em;color: #696969;}#sk-container-id-1 label.sk-toggleable__label-arrow:hover:before {color: black;}#sk-container-id-1 div.sk-estimator:hover label.sk-toggleable__label-arrow:before {color: black;}#sk-container-id-1 div.sk-toggleable__content {max-height: 0;max-width: 0;overflow: hidden;text-align: left;background-color: #f0f8ff;}#sk-container-id-1 div.sk-toggleable__content pre {margin: 0.2em;color: black;border-radius: 0.25em;background-color: #f0f8ff;}#sk-container-id-1 input.sk-toggleable__control:checked~div.sk-toggleable__content {max-height: 200px;max-width: 100%;overflow: auto;}#sk-container-id-1 input.sk-toggleable__control:checked~label.sk-toggleable__label-arrow:before {content: \"▾\";}#sk-container-id-1 div.sk-estimator input.sk-toggleable__control:checked~label.sk-toggleable__label {background-color: #d4ebff;}#sk-container-id-1 div.sk-label input.sk-toggleable__control:checked~label.sk-toggleable__label {background-color: #d4ebff;}#sk-container-id-1 input.sk-hidden--visually {border: 0;clip: rect(1px 1px 1px 1px);clip: rect(1px, 1px, 1px, 1px);height: 1px;margin: -1px;overflow: hidden;padding: 0;position: absolute;width: 1px;}#sk-container-id-1 div.sk-estimator {font-family: monospace;background-color: #f0f8ff;border: 1px dotted black;border-radius: 0.25em;box-sizing: border-box;margin-bottom: 0.5em;}#sk-container-id-1 div.sk-estimator:hover {background-color: #d4ebff;}#sk-container-id-1 div.sk-parallel-item::after {content: \"\";width: 100%;border-bottom: 1px solid gray;flex-grow: 1;}#sk-container-id-1 div.sk-label:hover label.sk-toggleable__label {background-color: #d4ebff;}#sk-container-id-1 div.sk-serial::before {content: \"\";position: absolute;border-left: 1px solid gray;box-sizing: border-box;top: 0;bottom: 0;left: 50%;z-index: 0;}#sk-container-id-1 div.sk-serial {display: flex;flex-direction: column;align-items: center;background-color: white;padding-right: 0.2em;padding-left: 0.2em;position: relative;}#sk-container-id-1 div.sk-item {position: relative;z-index: 1;}#sk-container-id-1 div.sk-parallel {display: flex;align-items: stretch;justify-content: center;background-color: white;position: relative;}#sk-container-id-1 div.sk-item::before, #sk-container-id-1 div.sk-parallel-item::before {content: \"\";position: absolute;border-left: 1px solid gray;box-sizing: border-box;top: 0;bottom: 0;left: 50%;z-index: -1;}#sk-container-id-1 div.sk-parallel-item {display: flex;flex-direction: column;z-index: 1;position: relative;background-color: white;}#sk-container-id-1 div.sk-parallel-item:first-child::after {align-self: flex-end;width: 50%;}#sk-container-id-1 div.sk-parallel-item:last-child::after {align-self: flex-start;width: 50%;}#sk-container-id-1 div.sk-parallel-item:only-child::after {width: 0;}#sk-container-id-1 div.sk-dashed-wrapped {border: 1px dashed gray;margin: 0 0.4em 0.5em 0.4em;box-sizing: border-box;padding-bottom: 0.4em;background-color: white;}#sk-container-id-1 div.sk-label label {font-family: monospace;font-weight: bold;display: inline-block;line-height: 1.2em;}#sk-container-id-1 div.sk-label-container {text-align: center;}#sk-container-id-1 div.sk-container {/* jupyter's `normalize.less` sets `[hidden] { display: none; }` but bootstrap.min.css set `[hidden] { display: none !important; }` so we also need the `!important` here to be able to override the default hidden behavior on the sphinx rendered scikit-learn.org. See: https://github.com/scikit-learn/scikit-learn/issues/21755 */display: inline-block !important;position: relative;}#sk-container-id-1 div.sk-text-repr-fallback {display: none;}</style><div id=\"sk-container-id-1\" class=\"sk-top-container\"><div class=\"sk-text-repr-fallback\"><pre>SVC(C=1, gamma=&#x27;auto&#x27;, kernel=&#x27;poly&#x27;)</pre><b>In a Jupyter environment, please rerun this cell to show the HTML representation or trust the notebook. <br />On GitHub, the HTML representation is unable to render, please try loading this page with nbviewer.org.</b></div><div class=\"sk-container\" hidden><div class=\"sk-item\"><div class=\"sk-estimator sk-toggleable\"><input class=\"sk-toggleable__control sk-hidden--visually\" id=\"sk-estimator-id-1\" type=\"checkbox\" checked><label for=\"sk-estimator-id-1\" class=\"sk-toggleable__label sk-toggleable__label-arrow\">SVC</label><div class=\"sk-toggleable__content\"><pre>SVC(C=1, gamma=&#x27;auto&#x27;, kernel=&#x27;poly&#x27;)</pre></div></div></div></div></div>"
            ]
          },
          "metadata": {},
          "execution_count": 33
        }
      ]
    },
    {
      "cell_type": "code",
      "source": [
        "prediction = model.predict(X_test)"
      ],
      "metadata": {
        "id": "o-TDycGsEZWe"
      },
      "execution_count": 36,
      "outputs": []
    },
    {
      "cell_type": "code",
      "source": [
        "accuracy = model.score(X_test,y_test)\n",
        "print('Accuracy :', accuracy)"
      ],
      "metadata": {
        "colab": {
          "base_uri": "https://localhost:8080/"
        },
        "id": "AEJASgWGEyff",
        "outputId": "bfd97127-da19-4a78-fc0a-71b26bfbc939"
      },
      "execution_count": 37,
      "outputs": [
        {
          "output_type": "stream",
          "name": "stdout",
          "text": [
            "Accuracy : 0.5627732667083073\n"
          ]
        }
      ]
    },
    {
      "cell_type": "code",
      "source": [
        "categ = ['Cat','Dog']\n",
        "np.random.seed(42)\n",
        "\n",
        "def predict_image():\n",
        "    idx = np.random.randint(0,len(X_test))\n",
        "    mypet = X_test[idx].reshape(50,50)*255\n",
        "    print('Prediction is', categ[prediction[idx]])\n",
        "    plt.imshow(mypet, cmap ='gray')\n",
        "    plt.title('Prediction is '+categ[prediction[idx]])\n",
        "    plt.show()"
      ],
      "metadata": {
        "id": "ewcXP9uODw6C"
      },
      "execution_count": 39,
      "outputs": []
    },
    {
      "cell_type": "code",
      "source": [
        "predict_image()"
      ],
      "metadata": {
        "colab": {
          "base_uri": "https://localhost:8080/",
          "height": 469
        },
        "id": "8DntmxkcFAeY",
        "outputId": "9e74be24-bab1-4f40-fe3a-141739a94597"
      },
      "execution_count": 40,
      "outputs": [
        {
          "output_type": "stream",
          "name": "stdout",
          "text": [
            "Prediction is Cat\n"
          ]
        },
        {
          "output_type": "display_data",
          "data": {
            "text/plain": [
              "<Figure size 640x480 with 1 Axes>"
            ],
            "image/png": "[encoded data removed]"
          },
          "metadata": {}
        }
      ]
    },
    {
      "cell_type": "code",
      "source": [
        "image = X_test[0]*255\n",
        "image = image.reshape(50,50)\n",
        "plt.imshow(image, cmap ='gray')\n",
        "plt.show()"
      ],
      "metadata": {
        "colab": {
          "base_uri": "https://localhost:8080/",
          "height": 432
        },
        "id": "77BHqhxeFHcg",
        "outputId": "a9d37fdb-b86f-4638-81e4-82749dbcef05"
      },
      "execution_count": 45,
      "outputs": [
        {
          "output_type": "display_data",
          "data": {
            "text/plain": [
              "<Figure size 640x480 with 1 Axes>"
            ],
            "image/png": "[encoded data removed]"
          },
          "metadata": {}
        }
      ]
    },
    {
      "cell_type": "code",
      "source": [
        "path = \"/content/dataset/Cat/cat.1.jpg\"\n",
        "i = cv2.imread(path,0)\n",
        "i = cv2.resize(i,(50,50))\n",
        "plt.imshow(i, cmap ='gray')\n",
        "plt.show()"
      ],
      "metadata": {
        "colab": {
          "base_uri": "https://localhost:8080/",
          "height": 432
        },
        "id": "V9bFoCZrFOCx",
        "outputId": "3fc6f107-3f05-4d99-ac53-9214b1da19b4"
      },
      "execution_count": 55,
      "outputs": [
        {
          "output_type": "display_data",
          "data": {
            "text/plain": [
              "<Figure size 640x480 with 1 Axes>"
            ],
            "image/png": "[encoded data removed]"
          },
          "metadata": {}
        }
      ]
    },
    {
      "cell_type": "code",
      "source": [],
      "metadata": {
        "id": "_3h2UEgvFkR4"
      },
      "execution_count": null,
      "outputs": []
    }
  ]
}